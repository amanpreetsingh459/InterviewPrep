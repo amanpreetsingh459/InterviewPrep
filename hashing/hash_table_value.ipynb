{
 "cells": [
  {
   "cell_type": "markdown",
   "id": "a632c5a0",
   "metadata": {},
   "source": [
    "**HashTable class that stores strings in a hash table, where keys are calculated using the first two letters of the string as per the below formula:-**\n",
    "\n",
    "> *Hash Value = (ASCII Value of First Letter * 100) + ASCII Value of Second Letter* "
   ]
  },
  {
   "cell_type": "code",
   "execution_count": 18,
   "id": "bb5ed9d8",
   "metadata": {},
   "outputs": [],
   "source": [
    "class HashTable(object):\n",
    "    def __init__(self):\n",
    "        self.table = [None]*10000\n",
    "\n",
    "    def calculate_hash_value(self, string):\n",
    "        \"\"\"function to calulate a hash value \n",
    "        from a string.\"\"\"\n",
    "        value = ord(string[0])*100 + ord(string[1])\n",
    "        return value\n",
    "    \n",
    "    def store(self, string):\n",
    "        hv = self.calculate_hash_value(string)\n",
    "        if hv != -1:\n",
    "            if self.table[hv] != None:\n",
    "                self.table[hv].append(string)\n",
    "            else:\n",
    "                self.table[hv] = [string]\n",
    "\n",
    "    def lookup(self, string):\n",
    "        hv = self.calculate_hash_value(string)\n",
    "        if hv != -1:\n",
    "            if self.table[hv] != None:\n",
    "                if string in self.table[hv]:\n",
    "                    return hv\n",
    "        return -1\n",
    "    \n",
    "    def get_hashtable_values(self):\n",
    "        return self.table"
   ]
  },
  {
   "cell_type": "code",
   "execution_count": 19,
   "id": "8fba1bd8",
   "metadata": {},
   "outputs": [],
   "source": [
    "hash_table = HashTable()"
   ]
  },
  {
   "cell_type": "code",
   "execution_count": 20,
   "id": "ba0b1f61",
   "metadata": {},
   "outputs": [
    {
     "name": "stdout",
     "output_type": "stream",
     "text": [
      "6577\n"
     ]
    }
   ],
   "source": [
    "# Testing calculate_hash_value\n",
    "print(hash_table.calculate_hash_value('AMANPREET'))"
   ]
  },
  {
   "cell_type": "code",
   "execution_count": 21,
   "id": "d88eb184",
   "metadata": {},
   "outputs": [
    {
     "name": "stdout",
     "output_type": "stream",
     "text": [
      "-1\n"
     ]
    }
   ],
   "source": [
    "# Testing lookup edge case\n",
    "# Should be -1\n",
    "print(hash_table.lookup('AMANPREET'))"
   ]
  },
  {
   "cell_type": "code",
   "execution_count": 22,
   "id": "dc24433b",
   "metadata": {},
   "outputs": [
    {
     "name": "stdout",
     "output_type": "stream",
     "text": [
      "6577\n"
     ]
    }
   ],
   "source": [
    "# Testing store\n",
    "hash_table.store('AMANPREET')\n",
    "print(hash_table.lookup('AMANPREET'))"
   ]
  },
  {
   "cell_type": "code",
   "execution_count": 23,
   "id": "06434bb6",
   "metadata": {},
   "outputs": [
    {
     "name": "stdout",
     "output_type": "stream",
     "text": [
      "6577\n"
     ]
    }
   ],
   "source": [
    "# Testing store edge case\n",
    "hash_table.store('AMANPREETSINGH459')\n",
    "print(hash_table.lookup('AMANPREETSINGH459'))"
   ]
  },
  {
   "cell_type": "code",
   "execution_count": 24,
   "id": "b39437b3",
   "metadata": {},
   "outputs": [
    {
     "data": {
      "text/plain": [
       "[['AMANPREET', 'AMANPREETSINGH459']]"
      ]
     },
     "execution_count": 24,
     "metadata": {},
     "output_type": "execute_result"
    }
   ],
   "source": [
    "hashtable_list = hash_table.get_hashtable_values()\n",
    "[i for i in hashtable_list if i]"
   ]
  },
  {
   "cell_type": "code",
   "execution_count": 25,
   "id": "66823594",
   "metadata": {},
   "outputs": [
    {
     "name": "stdout",
     "output_type": "stream",
     "text": [
      "-1\n"
     ]
    }
   ],
   "source": [
    "print(hash_table.lookup('AM'))"
   ]
  },
  {
   "cell_type": "code",
   "execution_count": null,
   "id": "af2adbb7",
   "metadata": {},
   "outputs": [],
   "source": []
  }
 ],
 "metadata": {
  "kernelspec": {
   "display_name": "Python 3 (ipykernel)",
   "language": "python",
   "name": "python3"
  },
  "language_info": {
   "codemirror_mode": {
    "name": "ipython",
    "version": 3
   },
   "file_extension": ".py",
   "mimetype": "text/x-python",
   "name": "python",
   "nbconvert_exporter": "python",
   "pygments_lexer": "ipython3",
   "version": "3.8.10"
  }
 },
 "nbformat": 4,
 "nbformat_minor": 5
}
