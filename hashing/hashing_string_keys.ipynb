{
 "cells": [
  {
   "cell_type": "markdown",
   "id": "f14690c4",
   "metadata": {},
   "source": [
    "**HashTable class that stores strings in a hash table, where keys are calculated using the first two letters of the string as per the below formula:-**\n",
    "\n",
    "> *Hash Value = (ASCII Value of First Letter * 100) + ASCII Value of Second Letter* "
   ]
  },
  {
   "cell_type": "code",
   "execution_count": 29,
   "id": "405ec174",
   "metadata": {},
   "outputs": [],
   "source": [
    "class HashTable:\n",
    "    def __init__(self):\n",
    "        self.hashtable = [None] * 10000\n",
    "    \n",
    "    def calculate_hash_value(self, string_value):\n",
    "        hash_value = ord(string_value[0]) * 100 + ord(string_value[1])\n",
    "        return hash_value\n",
    "    \n",
    "    def store(self, string_value):\n",
    "        hash_value = self.calculate_hash_value(string_value)\n",
    "        if self.hashtable[hash_value]:\n",
    "            self.hashtable[hash_value].append(string_value)\n",
    "        else:\n",
    "            self.hashtable[hash_value] = [string_value]\n",
    "        \n",
    "    def lookup(self, string_value):\n",
    "        hash_value = self.calculate_hash_value(string_value)\n",
    "        if self.hashtable[hash_value]:\n",
    "            if string_value in self.hashtable[hash_value]:\n",
    "                return hash_value\n",
    "        return -1\n",
    "        \n",
    "    def get_hashtable_values(self):\n",
    "        return self.hashtable"
   ]
  },
  {
   "cell_type": "code",
   "execution_count": 49,
   "id": "e51721cc",
   "metadata": {},
   "outputs": [],
   "source": [
    "hashtable = HashTable()"
   ]
  },
  {
   "cell_type": "code",
   "execution_count": 50,
   "id": "61da35c2",
   "metadata": {},
   "outputs": [
    {
     "data": {
      "text/plain": [
       "-1"
      ]
     },
     "execution_count": 50,
     "metadata": {},
     "output_type": "execute_result"
    }
   ],
   "source": [
    "hashtable.lookup(\"AMANPREET\")"
   ]
  },
  {
   "cell_type": "code",
   "execution_count": 51,
   "id": "2a7016a4",
   "metadata": {},
   "outputs": [],
   "source": [
    "hashtable.store(\"AMANPREET\")"
   ]
  },
  {
   "cell_type": "code",
   "execution_count": 52,
   "id": "3e81b30d",
   "metadata": {},
   "outputs": [
    {
     "data": {
      "text/plain": [
       "6577"
      ]
     },
     "execution_count": 52,
     "metadata": {},
     "output_type": "execute_result"
    }
   ],
   "source": [
    "hashtable.lookup(\"AMANPREET\")"
   ]
  },
  {
   "cell_type": "code",
   "execution_count": 53,
   "id": "95a844ae",
   "metadata": {},
   "outputs": [
    {
     "data": {
      "text/plain": [
       "-1"
      ]
     },
     "execution_count": 53,
     "metadata": {},
     "output_type": "execute_result"
    }
   ],
   "source": [
    "hashtable.lookup(\"AMANPREETSINGH459\")"
   ]
  },
  {
   "cell_type": "code",
   "execution_count": 54,
   "id": "3af35b73",
   "metadata": {},
   "outputs": [
    {
     "data": {
      "text/plain": [
       "[['AMANPREET']]"
      ]
     },
     "execution_count": 54,
     "metadata": {},
     "output_type": "execute_result"
    }
   ],
   "source": [
    "hashtable_list = hashtable.get_hashtable_values()\n",
    "[i for i in hashtable_list if i]"
   ]
  },
  {
   "cell_type": "code",
   "execution_count": 55,
   "id": "12591514",
   "metadata": {},
   "outputs": [],
   "source": [
    "hashtable.store('AMANPREETSINGH459')"
   ]
  },
  {
   "cell_type": "code",
   "execution_count": 56,
   "id": "8a0e4125",
   "metadata": {},
   "outputs": [
    {
     "data": {
      "text/plain": [
       "6577"
      ]
     },
     "execution_count": 56,
     "metadata": {},
     "output_type": "execute_result"
    }
   ],
   "source": [
    "hashtable.lookup(\"AMANPREETSINGH459\")"
   ]
  },
  {
   "cell_type": "code",
   "execution_count": 57,
   "id": "3a822762",
   "metadata": {},
   "outputs": [
    {
     "data": {
      "text/plain": [
       "[['AMANPREET', 'AMANPREETSINGH459']]"
      ]
     },
     "execution_count": 57,
     "metadata": {},
     "output_type": "execute_result"
    }
   ],
   "source": [
    "hashtable_list = hashtable.get_hashtable_values()\n",
    "[i for i in hashtable_list if i]"
   ]
  },
  {
   "cell_type": "code",
   "execution_count": 58,
   "id": "383762f4",
   "metadata": {},
   "outputs": [
    {
     "data": {
      "text/plain": [
       "-1"
      ]
     },
     "execution_count": 58,
     "metadata": {},
     "output_type": "execute_result"
    }
   ],
   "source": [
    "hashtable.lookup(\"AM\")"
   ]
  },
  {
   "cell_type": "code",
   "execution_count": 59,
   "id": "d7d616b2",
   "metadata": {},
   "outputs": [],
   "source": [
    "hashtable.store('AM')"
   ]
  },
  {
   "cell_type": "code",
   "execution_count": 60,
   "id": "88ec5418",
   "metadata": {},
   "outputs": [
    {
     "data": {
      "text/plain": [
       "6577"
      ]
     },
     "execution_count": 60,
     "metadata": {},
     "output_type": "execute_result"
    }
   ],
   "source": [
    "hashtable.lookup(\"AM\")"
   ]
  },
  {
   "cell_type": "code",
   "execution_count": 61,
   "id": "618c711c",
   "metadata": {},
   "outputs": [
    {
     "data": {
      "text/plain": [
       "[['AMANPREET', 'AMANPREETSINGH459', 'AM']]"
      ]
     },
     "execution_count": 61,
     "metadata": {},
     "output_type": "execute_result"
    }
   ],
   "source": [
    "hashtable_list = hashtable.get_hashtable_values()\n",
    "[i for i in hashtable_list if i]"
   ]
  },
  {
   "cell_type": "code",
   "execution_count": null,
   "id": "8226fef0",
   "metadata": {},
   "outputs": [],
   "source": []
  }
 ],
 "metadata": {
  "kernelspec": {
   "display_name": "Python 3 (ipykernel)",
   "language": "python",
   "name": "python3"
  },
  "language_info": {
   "codemirror_mode": {
    "name": "ipython",
    "version": 3
   },
   "file_extension": ".py",
   "mimetype": "text/x-python",
   "name": "python",
   "nbconvert_exporter": "python",
   "pygments_lexer": "ipython3",
   "version": "3.8.10"
  }
 },
 "nbformat": 4,
 "nbformat_minor": 5
}
