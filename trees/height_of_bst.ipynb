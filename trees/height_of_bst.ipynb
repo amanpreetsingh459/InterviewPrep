{
 "cells": [
  {
   "cell_type": "markdown",
   "id": "53adfc25",
   "metadata": {},
   "source": [
    "Problem description: Find the height of a Binary Search Tree(BST)\n",
    "\n",
    "https://www.hackerrank.com/challenges/tree-height-of-a-binary-tree/problem"
   ]
  },
  {
   "cell_type": "code",
   "execution_count": 147,
   "id": "4f3704bf",
   "metadata": {},
   "outputs": [],
   "source": [
    "class Tree:\n",
    "    def __init__(self, data):\n",
    "        self.data = data\n",
    "        self.left = None\n",
    "        self.right = None\n",
    "        \n",
    "    def insert(self, value):\n",
    "        if self.data is None:\n",
    "            self.data = value\n",
    "        else:\n",
    "            if value < self.data:\n",
    "                if self.left is None:\n",
    "                    self.left = Tree(value)\n",
    "                else:\n",
    "                    self.left.insert(value)\n",
    "            else:\n",
    "                if self.right is None:\n",
    "                    self.right = Tree(value)\n",
    "                else:\n",
    "                    self.right.insert(value)\n",
    "                    \n",
    "    def print_tree(self):\n",
    "        if self.left:\n",
    "            self.left.print_tree()\n",
    "        print(self.data, end=\" \")\n",
    "        if self.right:\n",
    "            self.right.print_tree()\n",
    "            \n",
    "            \n",
    "def height(root):\n",
    "        if root is None:\n",
    "            return -1\n",
    "        else:\n",
    "            h_left = height(root.left)\n",
    "            h_right = height(root.right)\n",
    "    \n",
    "        if h_left >= h_right:\n",
    "            return h_left+1\n",
    "        else:\n",
    "            return h_right+1"
   ]
  },
  {
   "cell_type": "code",
   "execution_count": 148,
   "id": "53e8524a",
   "metadata": {},
   "outputs": [],
   "source": [
    "root = Tree(10)"
   ]
  },
  {
   "cell_type": "code",
   "execution_count": 149,
   "id": "7e0fb4f0",
   "metadata": {},
   "outputs": [
    {
     "data": {
      "text/plain": [
       "[1, 2, 3, 4, 5, 6, 7, 8, 9, 10]"
      ]
     },
     "execution_count": 149,
     "metadata": {},
     "output_type": "execute_result"
    }
   ],
   "source": [
    "d = [1, 2, 3, 4, 5, 6, 7, 8, 9, 10]\n",
    "d"
   ]
  },
  {
   "cell_type": "code",
   "execution_count": 150,
   "id": "9b5a9561",
   "metadata": {},
   "outputs": [],
   "source": [
    "for i in d:\n",
    "    root.insert(i)"
   ]
  },
  {
   "cell_type": "code",
   "execution_count": 151,
   "id": "c36430ff",
   "metadata": {},
   "outputs": [
    {
     "name": "stdout",
     "output_type": "stream",
     "text": [
      "1 2 3 4 5 6 7 8 9 10 10 "
     ]
    }
   ],
   "source": [
    "root.print_tree()"
   ]
  },
  {
   "cell_type": "code",
   "execution_count": 152,
   "id": "cca9c0bb",
   "metadata": {},
   "outputs": [
    {
     "data": {
      "text/plain": [
       "9"
      ]
     },
     "execution_count": 152,
     "metadata": {},
     "output_type": "execute_result"
    }
   ],
   "source": [
    "height(root)"
   ]
  },
  {
   "cell_type": "markdown",
   "id": "fdb535f3",
   "metadata": {},
   "source": [
    "## Time complexity : \"O(n)\""
   ]
  },
  {
   "cell_type": "code",
   "execution_count": null,
   "id": "33093701",
   "metadata": {},
   "outputs": [],
   "source": []
  }
 ],
 "metadata": {
  "kernelspec": {
   "display_name": "Python 3 (ipykernel)",
   "language": "python",
   "name": "python3"
  },
  "language_info": {
   "codemirror_mode": {
    "name": "ipython",
    "version": 3
   },
   "file_extension": ".py",
   "mimetype": "text/x-python",
   "name": "python",
   "nbconvert_exporter": "python",
   "pygments_lexer": "ipython3",
   "version": "3.8.10"
  }
 },
 "nbformat": 4,
 "nbformat_minor": 5
}
