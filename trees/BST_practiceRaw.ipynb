{
 "cells": [
  {
   "cell_type": "markdown",
   "id": "b7461d0b",
   "metadata": {},
   "source": [
    "## Create, Insert, Print and Search operations"
   ]
  },
  {
   "cell_type": "code",
   "execution_count": 9,
   "id": "829718c1",
   "metadata": {},
   "outputs": [],
   "source": [
    "class Node(object):\n",
    "    def __init__(self, value):\n",
    "        self.value = value\n",
    "        self.left = None\n",
    "        self.right = None"
   ]
  },
  {
   "cell_type": "code",
   "execution_count": 10,
   "id": "057cb42a",
   "metadata": {},
   "outputs": [],
   "source": [
    "class BST(object):\n",
    "    def __init__(self, root):\n",
    "        self.root = Node(root)\n",
    "\n",
    "    def insert(self, new_val):\n",
    "        self.insert2(self.root, new_val)\n",
    "        \n",
    "    def insert2(self, start, new_val):\n",
    "        if start:\n",
    "            if new_val < start.value:\n",
    "                if start.left:\n",
    "                    self.insert2(start.left, new_val)\n",
    "                else:\n",
    "                    start.left = Node(new_val)\n",
    "            elif new_val >= start.value:\n",
    "                if start.right:\n",
    "                    self.insert2(start.right, new_val)\n",
    "                else:\n",
    "                    start.right = Node(new_val)\n",
    "        else:\n",
    "            self.root = Node(new_val)\n",
    "\n",
    "    def print_tree_in_order(self):\n",
    "        self.print_tree_in_order2(self.root)\n",
    "        \n",
    "    def print_tree_in_order2(self, start):\n",
    "        if start:\n",
    "            if start.left:\n",
    "                self.print_tree_in_order2(start.left)\n",
    "            print(start.value, end=\" \")\n",
    "            if start.right:\n",
    "                self.print_tree_in_order2(start.right)\n",
    "                \n",
    "    def search(self, find_val):\n",
    "        return self.search2(self.root, find_val)\n",
    "        \n",
    "    def search2(self, start, find_val):\n",
    "        #if start:\n",
    "            if start.value == find_val:\n",
    "                #print(\"start.value:\", start.value)\n",
    "                return True\n",
    "            elif start.left and find_val < start.value:\n",
    "                #print(\"start.left.value:\", start.left.value)\n",
    "                return self.search2(start.left, find_val)\n",
    "            elif start.right and find_val > start.value:\n",
    "                #print(\"start.right.value:\", start.right.value)\n",
    "                return self.search2(start.right, find_val)\n",
    "            \n",
    "            return False"
   ]
  },
  {
   "cell_type": "code",
   "execution_count": 11,
   "id": "418ae9eb",
   "metadata": {},
   "outputs": [],
   "source": [
    "# Set up tree\n",
    "tree = BST(5)"
   ]
  },
  {
   "cell_type": "code",
   "execution_count": 12,
   "id": "16de8d14",
   "metadata": {},
   "outputs": [],
   "source": [
    "# Insert elements\n",
    "tree.insert(3)\n",
    "tree.insert(7)\n",
    "tree.insert(6)\n",
    "tree.insert(2)\n",
    "# Insert elements\n",
    "tree.insert(4)\n",
    "tree.insert(8)\n",
    "tree.insert(9)\n",
    "tree.insert(1)"
   ]
  },
  {
   "cell_type": "code",
   "execution_count": 13,
   "id": "c4c757c0",
   "metadata": {},
   "outputs": [
    {
     "name": "stdout",
     "output_type": "stream",
     "text": [
      "1 2 3 4 5 6 7 8 9 "
     ]
    }
   ],
   "source": [
    "tree.print_tree_in_order()"
   ]
  },
  {
   "cell_type": "code",
   "execution_count": 14,
   "id": "a911a4d4",
   "metadata": {},
   "outputs": [
    {
     "name": "stdout",
     "output_type": "stream",
     "text": [
      "1 True\n",
      "2 True\n",
      "3 True\n",
      "4 True\n",
      "5 True\n",
      "6 True\n",
      "7 True\n",
      "8 True\n",
      "9 True\n",
      "10 False\n",
      "11 False\n",
      "12 False\n",
      "13 False\n",
      "14 False\n",
      "15 False\n",
      "16 False\n",
      "17 False\n",
      "18 False\n",
      "19 False\n"
     ]
    }
   ],
   "source": [
    "for i in range(1, 20):\n",
    "    print(i, tree.search(i))"
   ]
  },
  {
   "cell_type": "markdown",
   "id": "a97b3af2",
   "metadata": {},
   "source": [
    "## height of a BST"
   ]
  },
  {
   "cell_type": "code",
   "execution_count": 15,
   "id": "0ac1c9a9",
   "metadata": {},
   "outputs": [],
   "source": [
    "def height_of_BST(root):\n",
    "    if root:\n",
    "        left_height = height_of_BST(root.left)\n",
    "        right_height = height_of_BST(root.right)\n",
    "        \n",
    "        if left_height > right_height:\n",
    "            return left_height+1\n",
    "        else:\n",
    "            return right_height+1\n",
    "    else:\n",
    "        return -1"
   ]
  },
  {
   "cell_type": "code",
   "execution_count": 16,
   "id": "23bf2291",
   "metadata": {},
   "outputs": [
    {
     "data": {
      "text/plain": [
       "3"
      ]
     },
     "execution_count": 16,
     "metadata": {},
     "output_type": "execute_result"
    }
   ],
   "source": [
    "height_of_BST(tree.root)"
   ]
  },
  {
   "cell_type": "markdown",
   "id": "80439c79",
   "metadata": {},
   "source": [
    "## level-order-traversal (i. e. Breadth-First Search for Tree/Graph)"
   ]
  },
  {
   "cell_type": "code",
   "execution_count": 17,
   "id": "0fb22e93",
   "metadata": {},
   "outputs": [],
   "source": [
    "def level_order_traversal(root):\n",
    "    if root == None:\n",
    "        return\n",
    "    \n",
    "    queue = []\n",
    "    queue.append(root)\n",
    "    while(len(queue) > 0):\n",
    "        print(queue[0].value, end=\" \")\n",
    "        curr_node = queue.pop(0)\n",
    "        if curr_node.left:\n",
    "            queue.append(curr_node.left)\n",
    "        if curr_node.right:\n",
    "            queue.append(curr_node.right)"
   ]
  },
  {
   "cell_type": "code",
   "execution_count": 18,
   "id": "00f68389",
   "metadata": {},
   "outputs": [
    {
     "name": "stdout",
     "output_type": "stream",
     "text": [
      "5 3 7 2 4 6 8 1 9 "
     ]
    }
   ],
   "source": [
    "level_order_traversal(tree.root)"
   ]
  },
  {
   "cell_type": "code",
   "execution_count": 19,
   "id": "4ed58863",
   "metadata": {},
   "outputs": [],
   "source": [
    "#lowest-common-ancestor\n",
    "def lca(root, v1, v2):\n",
    "    #Enter your code here\n",
    "    if root == None:\n",
    "        return\n",
    "    if root.value == v1 or root.value == v2:\n",
    "        return root\n",
    "    if v1 < root.value and v2 > root.value:\n",
    "        #return root.value\n",
    "        return root\n",
    "    if v2 < root.value and v1 > root.value:\n",
    "        #return root.value\n",
    "        return root\n",
    "    if v1 < root.value and v2 < root.value and (root.value != v1 or root.value != v2):\n",
    "        return lca(root.left, v1, v2)\n",
    "    elif v1 > root.value and v2 > root.value and (root.value != v1 or root.value != v2):\n",
    "        return lca(root.right, v1, v2)"
   ]
  },
  {
   "cell_type": "code",
   "execution_count": 20,
   "id": "eac981d2",
   "metadata": {},
   "outputs": [
    {
     "data": {
      "text/plain": [
       "7"
      ]
     },
     "execution_count": 20,
     "metadata": {},
     "output_type": "execute_result"
    }
   ],
   "source": [
    "result_node = lca(tree.root, 7, 9)\n",
    "result_node.value"
   ]
  },
  {
   "cell_type": "code",
   "execution_count": 21,
   "id": "64a4920a",
   "metadata": {},
   "outputs": [],
   "source": [
    "#check if a list is sorted or not\n",
    "def is_sorted(l):\n",
    "    for i in range(len(l)):\n",
    "        if i == len(l)-1:\n",
    "            break\n",
    "        if l[i]>l[i+1]:\n",
    "            return False\n",
    "    \n",
    "    return True"
   ]
  },
  {
   "cell_type": "code",
   "execution_count": 22,
   "id": "986601e0",
   "metadata": {},
   "outputs": [
    {
     "name": "stdout",
     "output_type": "stream",
     "text": [
      "True\n",
      "False\n"
     ]
    }
   ],
   "source": [
    "print(is_sorted([1, 2, 3, 4, 5, 6, 7]))\n",
    "print(is_sorted([1, 2, 3, 4, 5, 6, 7, 6, 3]))"
   ]
  },
  {
   "cell_type": "markdown",
   "id": "53becf4f",
   "metadata": {},
   "source": [
    "## Check if a tree is BST"
   ]
  },
  {
   "cell_type": "code",
   "execution_count": 25,
   "id": "909438e3",
   "metadata": {},
   "outputs": [],
   "source": [
    "def is_bst_util(root, l=None, r=None):\n",
    "    if root is None:\n",
    "        return True\n",
    "    if l!=None and l.info > root.info:\n",
    "        return False\n",
    "    if r!=None and r.info > root.info:\n",
    "        return False\n",
    "    \n",
    "    return is_bst_util(root.left, l, None) and is_bst_util(root.right, None, r)"
   ]
  },
  {
   "cell_type": "code",
   "execution_count": 26,
   "id": "2cddcada",
   "metadata": {},
   "outputs": [
    {
     "data": {
      "text/plain": [
       "True"
      ]
     },
     "execution_count": 26,
     "metadata": {},
     "output_type": "execute_result"
    }
   ],
   "source": [
    "is_bst_util(tree.root)"
   ]
  },
  {
   "cell_type": "code",
   "execution_count": null,
   "id": "47139ce0",
   "metadata": {},
   "outputs": [],
   "source": []
  }
 ],
 "metadata": {
  "kernelspec": {
   "display_name": "Python 3 (ipykernel)",
   "language": "python",
   "name": "python3"
  },
  "language_info": {
   "codemirror_mode": {
    "name": "ipython",
    "version": 3
   },
   "file_extension": ".py",
   "mimetype": "text/x-python",
   "name": "python",
   "nbconvert_exporter": "python",
   "pygments_lexer": "ipython3",
   "version": "3.8.10"
  }
 },
 "nbformat": 4,
 "nbformat_minor": 5
}
