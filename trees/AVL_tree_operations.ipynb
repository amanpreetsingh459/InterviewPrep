{
 "cells": [
  {
   "cell_type": "code",
   "execution_count": 1,
   "id": "8a8be298",
   "metadata": {},
   "outputs": [],
   "source": [
    "import sys"
   ]
  },
  {
   "cell_type": "code",
   "execution_count": 28,
   "id": "e4ebe0be",
   "metadata": {},
   "outputs": [],
   "source": [
    "# Create a tree node\n",
    "class Node(object):\n",
    "    def __init__(self, value):\n",
    "        self.value = value\n",
    "        self.left = None\n",
    "        self.right = None\n",
    "        self.height = 1"
   ]
  },
  {
   "cell_type": "code",
   "execution_count": 55,
   "id": "5d31808e",
   "metadata": {},
   "outputs": [],
   "source": [
    "class AVLTree:\n",
    "    \n",
    "    def insert_node(self, root, value):\n",
    "        if not root:\n",
    "            return Node(value)\n",
    "        elif value < root.value:\n",
    "            root.left = self.insert_node(root.left, value)\n",
    "        else:\n",
    "            root.right = self.insert_node(root.right, value)\n",
    "            \n",
    "        #update the height of the tree\n",
    "        root.height = 1 + max(self.get_height(root.left),\n",
    "                              self.get_height(root.right))\n",
    "        \n",
    "        # Update the balance factor and balance the tree\n",
    "        balance_factor = self.get_balance_factor(root)\n",
    "        if balance_factor > 1:\n",
    "            if key < root.left.key:\n",
    "                return self.right_rotate(root)\n",
    "            else:\n",
    "                root.left = self.left_rotate(root.left)\n",
    "                return self.right_rotate(root)\n",
    "\n",
    "        if balance_factor < -1:\n",
    "            if key > root.right.key:\n",
    "                return self.left_rotate(root)\n",
    "            else:\n",
    "                root.right = self.right_rotate(root.right)\n",
    "                return self.left_rotate(root)\n",
    "            \n",
    "        return root\n",
    "            \n",
    "    # Get the height of the node\n",
    "    def get_height(self, root):\n",
    "        if not root:\n",
    "            return 0\n",
    "        return root.height\n",
    "    \n",
    "    # Get balance factor of the node\n",
    "    def get_balance_factor(self, root):\n",
    "        if not root:\n",
    "            return 0\n",
    "        return self.get_height(root.left) - self.get_height(root.right)\n",
    "    \n",
    "    # Function to perform left rotation\n",
    "    def left_rotate(self, z):\n",
    "        y = z.right\n",
    "        T2 = y.left\n",
    "        y.left = z\n",
    "        z.right = T2\n",
    "        z.height = 1 + max(self.get_height(z.left),\n",
    "                           self.get_height(z.right))\n",
    "        y.height = 1 + max(self.get_height(y.left),\n",
    "                           self.get_height(y.right))\n",
    "        return y\n",
    "    \n",
    "    # Function to perform right rotation\n",
    "    def right_rotate(self, z):\n",
    "        y = z.left\n",
    "        T3 = y.right\n",
    "        y.right = z\n",
    "        z.left = T3\n",
    "        z.height = 1 + max(self.get_height(z.left),\n",
    "                           self.get_height(z.right))\n",
    "        y.height = 1 + max(self.get_height(y.left),\n",
    "                           self.get_height(y.right))\n",
    "        return y\n",
    "    \n",
    "    def pre_order(self, root):\n",
    "        if not root:\n",
    "            return\n",
    "        print(\"{0} \".format(root.value), end=\"\")\n",
    "        self.pre_order(root.left)\n",
    "        self.pre_order(root.right)\n",
    "        \n",
    "    def in_order(self, root):\n",
    "        if not root:\n",
    "            return\n",
    "        self.in_order(root.left)\n",
    "        print(\"{0} \".format(root.value), end=\"\")\n",
    "        self.in_order(root.right)\n",
    "        \n",
    "    # Print the tree\n",
    "    def print_tree_shape(self, currPtr, indent, last):\n",
    "        if currPtr != None:\n",
    "            sys.stdout.write(indent)\n",
    "            if last:\n",
    "                sys.stdout.write(\"R----\")\n",
    "                indent += \"     \"\n",
    "            else:\n",
    "                sys.stdout.write(\"L----\")\n",
    "                indent += \"|    \"\n",
    "            print(currPtr.value)\n",
    "            self.print_tree_shape(currPtr.left, indent, False)\n",
    "            self.print_tree_shape(currPtr.right, indent, True)"
   ]
  },
  {
   "cell_type": "code",
   "execution_count": 62,
   "id": "4bd0feb8",
   "metadata": {},
   "outputs": [
    {
     "name": "stdout",
     "output_type": "stream",
     "text": [
      "R----33\n",
      "##########\n",
      "R----33\n",
      "     L----13\n",
      "##########\n",
      "R----33\n",
      "     L----13\n",
      "     R----52\n",
      "##########\n",
      "R----33\n",
      "     L----13\n",
      "     |    L----9\n",
      "     R----52\n",
      "##########\n",
      "R----33\n",
      "     L----13\n",
      "     |    L----9\n",
      "     |    R----21\n",
      "     R----52\n",
      "##########\n",
      "R----33\n",
      "     L----13\n",
      "     |    L----9\n",
      "     |    R----21\n",
      "     R----52\n",
      "          R----61\n",
      "##########\n",
      "R----33\n",
      "     L----13\n",
      "     |    L----9\n",
      "     |    |    L----8\n",
      "     |    R----21\n",
      "     R----52\n",
      "          R----61\n",
      "##########\n",
      "R----33\n",
      "     L----13\n",
      "     |    L----9\n",
      "     |    |    L----8\n",
      "     |    |    R----11\n",
      "     |    R----21\n",
      "     R----52\n",
      "          R----61\n",
      "##########\n"
     ]
    }
   ],
   "source": [
    "tree = AVLTree()\n",
    "root = None\n",
    "nums = [33, 13, 52, 9, 21, 61, 8, 11]\n",
    "for num in nums:\n",
    "    root = tree.insert_node(root, num)\n",
    "    tree.print_tree_shape(root, \"\", True)\n",
    "    print(\"##########\")"
   ]
  },
  {
   "cell_type": "code",
   "execution_count": 57,
   "id": "7ee90706",
   "metadata": {},
   "outputs": [
    {
     "name": "stdout",
     "output_type": "stream",
     "text": [
      "33 13 9 8 11 21 52 61 "
     ]
    }
   ],
   "source": [
    "tree.pre_order(root)"
   ]
  },
  {
   "cell_type": "code",
   "execution_count": 58,
   "id": "9da54acb",
   "metadata": {},
   "outputs": [
    {
     "name": "stdout",
     "output_type": "stream",
     "text": [
      "8 9 11 13 21 33 52 61 "
     ]
    }
   ],
   "source": [
    "tree.in_order(root)"
   ]
  },
  {
   "cell_type": "code",
   "execution_count": 59,
   "id": "fc71e1c1",
   "metadata": {},
   "outputs": [
    {
     "name": "stdout",
     "output_type": "stream",
     "text": [
      "R----33\n",
      "     L----13\n",
      "     |    L----9\n",
      "     |    |    L----8\n",
      "     |    |    R----11\n",
      "     |    R----21\n",
      "     R----52\n",
      "          R----61\n"
     ]
    }
   ],
   "source": [
    "tree.print_tree_shape(root, \"\", True)"
   ]
  },
  {
   "cell_type": "code",
   "execution_count": 60,
   "id": "e393f4b1",
   "metadata": {},
   "outputs": [
    {
     "data": {
      "text/plain": [
       "4"
      ]
     },
     "execution_count": 60,
     "metadata": {},
     "output_type": "execute_result"
    }
   ],
   "source": [
    "tree.get_height(root)"
   ]
  },
  {
   "cell_type": "code",
   "execution_count": null,
   "id": "3978c7cc",
   "metadata": {},
   "outputs": [],
   "source": []
  }
 ],
 "metadata": {
  "kernelspec": {
   "display_name": "Python 3 (ipykernel)",
   "language": "python",
   "name": "python3"
  },
  "language_info": {
   "codemirror_mode": {
    "name": "ipython",
    "version": 3
   },
   "file_extension": ".py",
   "mimetype": "text/x-python",
   "name": "python",
   "nbconvert_exporter": "python",
   "pygments_lexer": "ipython3",
   "version": "3.8.10"
  }
 },
 "nbformat": 4,
 "nbformat_minor": 5
}
