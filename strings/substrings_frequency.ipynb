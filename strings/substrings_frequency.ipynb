{
 "cells": [
  {
   "cell_type": "markdown",
   "id": "a00a7b6e",
   "metadata": {},
   "source": [
    "### all substrings Frequency in string"
   ]
  },
  {
   "cell_type": "code",
   "execution_count": 1,
   "id": "5f20f814",
   "metadata": {},
   "outputs": [
    {
     "data": {
      "text/plain": [
       "1"
      ]
     },
     "execution_count": 1,
     "metadata": {},
     "output_type": "execute_result"
    }
   ],
   "source": [
    "test_str = \"abcd\"\n",
    "test_str.count('a')"
   ]
  },
  {
   "cell_type": "code",
   "execution_count": 19,
   "id": "eb19db8b",
   "metadata": {},
   "outputs": [
    {
     "name": "stdout",
     "output_type": "stream",
     "text": [
      "['a', 'ab', 'abc', 'abcd', 'b', 'bc', 'bcd', 'c', 'cd', 'd']\n"
     ]
    }
   ],
   "source": [
    "temp1 = []\n",
    "for i in range(len(test_str)):\n",
    "    for j in range(i + 1, len(test_str) + 1):\n",
    "        temp1.append(test_str[i:j])\n",
    "print(temp1)"
   ]
  },
  {
   "cell_type": "code",
   "execution_count": 14,
   "id": "c4bac832",
   "metadata": {},
   "outputs": [],
   "source": [
    "counts = {}\n",
    "for i in list(set(temp1)):\n",
    "    counts[i] = temp1.count(i)"
   ]
  },
  {
   "cell_type": "code",
   "execution_count": 15,
   "id": "f3d9b9d9",
   "metadata": {},
   "outputs": [
    {
     "name": "stdout",
     "output_type": "stream",
     "text": [
      "{'abab': 1, 'ababa': 1, 'ab': 2, 'aba': 2, 'b': 2, 'bab': 1, 'ba': 2, 'a': 3, 'baba': 1}\n"
     ]
    }
   ],
   "source": [
    "print(counts)"
   ]
  },
  {
   "cell_type": "code",
   "execution_count": null,
   "id": "7b3cfb80",
   "metadata": {},
   "outputs": [],
   "source": []
  },
  {
   "cell_type": "code",
   "execution_count": null,
   "id": "6b7e9565",
   "metadata": {},
   "outputs": [],
   "source": []
  },
  {
   "cell_type": "code",
   "execution_count": null,
   "id": "a1a5319f",
   "metadata": {},
   "outputs": [],
   "source": [
    "(\"geksefokesgergeeks\", \"geeks\")"
   ]
  },
  {
   "cell_type": "markdown",
   "id": "1f065600",
   "metadata": {},
   "source": [
    "### using single loop"
   ]
  },
  {
   "cell_type": "code",
   "execution_count": null,
   "id": "0724b199",
   "metadata": {},
   "outputs": [],
   "source": [
    "for i in range(len(test_str)):\n",
    "    for j in range(len(test_str))\n",
    "    print(test_str[i:])"
   ]
  }
 ],
 "metadata": {
  "kernelspec": {
   "display_name": "Python 3 (ipykernel)",
   "language": "python",
   "name": "python3"
  },
  "language_info": {
   "codemirror_mode": {
    "name": "ipython",
    "version": 3
   },
   "file_extension": ".py",
   "mimetype": "text/x-python",
   "name": "python",
   "nbconvert_exporter": "python",
   "pygments_lexer": "ipython3",
   "version": "3.8.10"
  }
 },
 "nbformat": 4,
 "nbformat_minor": 5
}
