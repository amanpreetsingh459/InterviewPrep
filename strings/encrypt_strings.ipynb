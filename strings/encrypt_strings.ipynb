{
 "cells": [
  {
   "cell_type": "markdown",
   "id": "7505caad",
   "metadata": {},
   "source": [
    "Question at [Hankerrank](https://www.hackerrank.com/challenges/caesar-cipher-1/problem)\n",
    "\n",
    "* Shift the string each letter by a number of letters. \n",
    "* If the shift takes you past the end of the alphabet, just rotate back to the front of the alphabet. In the case of a rotation by 3, w, x, y and z would map to z, a, b and c.\n",
    "* only shift letters a-z A-Z and not any special symbols"
   ]
  },
  {
   "cell_type": "code",
   "execution_count": 85,
   "id": "b4986627",
   "metadata": {},
   "outputs": [],
   "source": [
    "def caesarCipher(s, k):\n",
    "    # Write your code here\n",
    "    encrypted_string = \"\"\n",
    "    k = k%26\n",
    "    #print(\"New k:\", k)\n",
    "    for i in s:\n",
    "        if ord(i) >= 65 and ord(i) <= 90:\n",
    "            if ord(i)+k > 90:\n",
    "                encrypted_string += chr(64 + ((ord(i)+k) % 90))\n",
    "            else:\n",
    "                encrypted_string += chr(ord(i)+k)\n",
    "        elif ord(i) >= 97 and ord(i) <= 122:\n",
    "            if ord(i)+k > 122:\n",
    "                encrypted_string += chr(96 + ((ord(i)+k) % 122))\n",
    "            else:\n",
    "                encrypted_string += chr(ord(i)+k)\n",
    "        else:\n",
    "            encrypted_string += i\n",
    "        \n",
    "    return encrypted_string"
   ]
  },
  {
   "cell_type": "code",
   "execution_count": 86,
   "id": "85bde31e",
   "metadata": {},
   "outputs": [
    {
     "name": "stdout",
     "output_type": "stream",
     "text": [
      "65 90\n",
      "97 122\n",
      "A Z\n",
      "a z\n"
     ]
    }
   ],
   "source": [
    "print(ord('A'), ord('Z'))\n",
    "print(ord('a'), ord('z'))\n",
    "\n",
    "print(chr(ord('A')), chr(ord('Z')))\n",
    "print(chr(ord('a')), chr(ord('z')))"
   ]
  },
  {
   "cell_type": "code",
   "execution_count": 87,
   "id": "3420e614",
   "metadata": {},
   "outputs": [
    {
     "data": {
      "text/plain": [
       "'cde+ZAb'"
      ]
     },
     "execution_count": 87,
     "metadata": {},
     "output_type": "execute_result"
    }
   ],
   "source": [
    "caesarCipher(\"abc+XYz\", 2)"
   ]
  },
  {
   "cell_type": "code",
   "execution_count": 88,
   "id": "fa387e0e",
   "metadata": {},
   "outputs": [
    {
     "data": {
      "text/plain": [
       "'defghijklmnopqrstuvwxyzabc'"
      ]
     },
     "execution_count": 88,
     "metadata": {},
     "output_type": "execute_result"
    }
   ],
   "source": [
    "caesarCipher(\"abcdefghijklmnopqrstuvwxyz\", 3)"
   ]
  },
  {
   "cell_type": "code",
   "execution_count": null,
   "id": "eb54d56a",
   "metadata": {},
   "outputs": [],
   "source": []
  },
  {
   "cell_type": "code",
   "execution_count": null,
   "id": "976c091e",
   "metadata": {},
   "outputs": [],
   "source": []
  }
 ],
 "metadata": {
  "kernelspec": {
   "display_name": "Python 3 (ipykernel)",
   "language": "python",
   "name": "python3"
  },
  "language_info": {
   "codemirror_mode": {
    "name": "ipython",
    "version": 3
   },
   "file_extension": ".py",
   "mimetype": "text/x-python",
   "name": "python",
   "nbconvert_exporter": "python",
   "pygments_lexer": "ipython3",
   "version": "3.8.10"
  }
 },
 "nbformat": 4,
 "nbformat_minor": 5
}
