{
 "cells": [
  {
   "cell_type": "code",
   "execution_count": 24,
   "id": "1f357c3e",
   "metadata": {},
   "outputs": [
    {
     "name": "stdout",
     "output_type": "stream",
     "text": [
      "amanapreet\n"
     ]
    }
   ],
   "source": [
    "s = \"amanapreet\"\n",
    "s.replace(\"a\", \"\", 2)\n",
    "print(s)"
   ]
  },
  {
   "cell_type": "code",
   "execution_count": 62,
   "id": "27ecee72",
   "metadata": {},
   "outputs": [],
   "source": [
    "def superReducedString(s):\n",
    "    # Write your code here\n",
    "    len_s = len(s)\n",
    "    i = 0\n",
    "    for i in range(len_s):\n",
    "        try:\n",
    "            if s[i] == s[i+1]:\n",
    "                #print(s[i], \"and\", s[i+1], \"matched.\")\n",
    "                s = s.replace(s[i], \"\", 2)\n",
    "                #print(\"Now s is:\", s, \"and the length of s is:\", len(s))\n",
    "        except:\n",
    "            if len(s) == 2 and s[0] == s[1]:\n",
    "                s = \"Empty String\"\n",
    "            break\n",
    "    \n",
    "    if len(s) == 0:\n",
    "        s = \"Empty String\"\n",
    "    \n",
    "    return s"
   ]
  },
  {
   "cell_type": "code",
   "execution_count": 64,
   "id": "d80840d1",
   "metadata": {},
   "outputs": [
    {
     "data": {
      "text/plain": [
       "'tqauhujtmxnsbzpyklvpfyqijvdhuhirdmuxiobyvwxupqwydkpbxmfvxhgicuzdealkgxlfmjiucasokrdznmtlwh'"
      ]
     },
     "execution_count": 64,
     "metadata": {},
     "output_type": "execute_result"
    }
   ],
   "source": [
    "superReducedString(\"zztqooauhujtmxnsbzpykwlvpfyqijvdhuhiroodmuxiobyvwwxupqwydkpeebxmfvxhgicuzdealkgxlfmjiucasokrdznmtlwh\")"
   ]
  },
  {
   "cell_type": "code",
   "execution_count": 65,
   "id": "47df4476",
   "metadata": {},
   "outputs": [
    {
     "data": {
      "text/plain": [
       "False"
      ]
     },
     "execution_count": 65,
     "metadata": {},
     "output_type": "execute_result"
    }
   ],
   "source": [
    "\"tqauhujtmxnsbzpyklvpfyqijvdhuhirdmuxiobyvwxupqwydkpbxmfvxhgicuzdealkgxlfmjiucasokrdznmtlwh\" == \n",
    "\"tqauhujtmxnsbzpyklvpfyqijvdhuhirdmuxiobyvxupqwydkpbxmfvxhgicuzdealkgxlfmjiucasokrdznmtlwh\""
   ]
  },
  {
   "cell_type": "code",
   "execution_count": null,
   "id": "cf4e085f",
   "metadata": {},
   "outputs": [],
   "source": []
  }
 ],
 "metadata": {
  "kernelspec": {
   "display_name": "Python 3 (ipykernel)",
   "language": "python",
   "name": "python3"
  },
  "language_info": {
   "codemirror_mode": {
    "name": "ipython",
    "version": 3
   },
   "file_extension": ".py",
   "mimetype": "text/x-python",
   "name": "python",
   "nbconvert_exporter": "python",
   "pygments_lexer": "ipython3",
   "version": "3.8.10"
  }
 },
 "nbformat": 4,
 "nbformat_minor": 5
}
