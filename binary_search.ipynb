{
 "cells": [
  {
   "cell_type": "markdown",
   "id": "dc3d7de7",
   "metadata": {},
   "source": [
    "### Complextity is logarithmic(log n) because it reduces the size of the input data in each step (it won't have to look at all the elements of the dataset to reach to the conclusion)"
   ]
  },
  {
   "cell_type": "code",
   "execution_count": 11,
   "id": "6c4c5548",
   "metadata": {},
   "outputs": [],
   "source": [
    "def binary_search(arr, x):\n",
    "    beg_ix = 0\n",
    "    end_ix = len(arr)-1\n",
    "    while beg_ix <= end_ix:\n",
    "        mid_ix = (beg_ix+end_ix)//2\n",
    "        if arr[mid_ix] == x:\n",
    "            return mid_ix\n",
    "        elif arr[mid_ix] < x:\n",
    "            beg_ix = mid_ix+1\n",
    "        elif arr[mid_ix] > x:\n",
    "            end_ix = mid_ix-1\n",
    "    \n",
    "    return -1"
   ]
  },
  {
   "cell_type": "code",
   "execution_count": 12,
   "id": "f5f05a33",
   "metadata": {},
   "outputs": [
    {
     "data": {
      "text/plain": [
       "[2, 3, 4, 5, 11, 14, 15, 33, 45, 67, 77]"
      ]
     },
     "execution_count": 12,
     "metadata": {},
     "output_type": "execute_result"
    }
   ],
   "source": [
    "arr = [2, 3, 4, 5, 11, 14, 15, 33, 45, 67, 77]\n",
    "arr"
   ]
  },
  {
   "cell_type": "code",
   "execution_count": 18,
   "id": "5bd13c7a",
   "metadata": {},
   "outputs": [
    {
     "name": "stdout",
     "output_type": "stream",
     "text": [
      "Element 11 found in the list at index 4\n"
     ]
    }
   ],
   "source": [
    "x = 11\n",
    "result = binary_search(arr, x)\n",
    "if result == -1:\n",
    "    print(\"Element {} not present in the list\".format(x))\n",
    "else:\n",
    "    print(\"Element {} found in the list at index {}\".format(x, result))"
   ]
  },
  {
   "cell_type": "code",
   "execution_count": 20,
   "id": "eeb41bbe",
   "metadata": {},
   "outputs": [
    {
     "name": "stdout",
     "output_type": "stream",
     "text": [
      "Element 99 not present in the list\n"
     ]
    }
   ],
   "source": [
    "x = 99\n",
    "result = binary_search(arr, x)\n",
    "if result == -1:\n",
    "    print(\"Element {} not present in the list\".format(x))\n",
    "else:\n",
    "    print(\"Element {} found in the list at index {}\".format(x, result))"
   ]
  },
  {
   "cell_type": "code",
   "execution_count": null,
   "id": "670aecaa",
   "metadata": {},
   "outputs": [],
   "source": []
  }
 ],
 "metadata": {
  "kernelspec": {
   "display_name": "Python 3 (ipykernel)",
   "language": "python",
   "name": "python3"
  },
  "language_info": {
   "codemirror_mode": {
    "name": "ipython",
    "version": 3
   },
   "file_extension": ".py",
   "mimetype": "text/x-python",
   "name": "python",
   "nbconvert_exporter": "python",
   "pygments_lexer": "ipython3",
   "version": "3.8.10"
  }
 },
 "nbformat": 4,
 "nbformat_minor": 5
}
