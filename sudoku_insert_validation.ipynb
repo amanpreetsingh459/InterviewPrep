{
 "cells": [
  {
   "cell_type": "code",
   "execution_count": 1,
   "id": "3d575167",
   "metadata": {},
   "outputs": [],
   "source": [
    "import numpy as np"
   ]
  },
  {
   "cell_type": "markdown",
   "id": "84de3cc8",
   "metadata": {},
   "source": [
    "#### test row col access"
   ]
  },
  {
   "cell_type": "code",
   "execution_count": 2,
   "id": "d97bed3d",
   "metadata": {},
   "outputs": [
    {
     "data": {
      "text/plain": [
       "array([[6, 6, 0, 9, 1, 0, 2, 0, 0],\n",
       "       [3, 5, 7, 3, 4, 9, 7, 5, 7],\n",
       "       [2, 3, 7, 2, 9, 3, 7, 5, 9],\n",
       "       [5, 0, 4, 1, 1, 0, 7, 1, 3],\n",
       "       [1, 8, 1, 3, 7, 2, 0, 2, 8],\n",
       "       [4, 3, 1, 3, 7, 8, 9, 0, 4],\n",
       "       [1, 3, 2, 4, 5, 3, 7, 2, 5],\n",
       "       [1, 2, 3, 5, 4, 7, 8, 3, 5],\n",
       "       [7, 1, 5, 7, 5, 0, 1, 8, 6]])"
      ]
     },
     "execution_count": 2,
     "metadata": {},
     "output_type": "execute_result"
    }
   ],
   "source": [
    "#board = np.full([9,9], 0)\n",
    "board = np.random.randint(10, size=(9, 9))\n",
    "board"
   ]
  },
  {
   "cell_type": "code",
   "execution_count": 43,
   "id": "0964d307",
   "metadata": {},
   "outputs": [
    {
     "name": "stdout",
     "output_type": "stream",
     "text": [
      "[[6 6 0]\n",
      " [3 5 7]\n",
      " [2 3 7]]\n",
      "true\n"
     ]
    }
   ],
   "source": [
    "print(board[0:3,0:3])\n",
    "i = 2\n",
    "if i in board[0:3,0:3]:\n",
    "    print(\"true\")\n",
    "else:\n",
    "    print(\"false\")"
   ]
  },
  {
   "cell_type": "code",
   "execution_count": 44,
   "id": "7d99a2b4",
   "metadata": {},
   "outputs": [
    {
     "name": "stdout",
     "output_type": "stream",
     "text": [
      "row 0: [6 6 0 9 1 0 2 0 0]\n",
      "row 1: [3 5 7 3 4 9 7 5 7]\n",
      "row 4: [1 8 1 3 7 2 0 2 8]\n",
      "col 0: [6 3 2 5 1 4 1 1 7]\n",
      "col 1: [6 5 3 0 8 3 3 2 1]\n",
      "1. 3X3: [[6 6 0]\n",
      " [3 5 7]\n",
      " [2 3 7]]\n",
      "2. 3X3: [[1 1 0]\n",
      " [3 7 2]\n",
      " [3 7 8]]\n"
     ]
    }
   ],
   "source": [
    "print(\"row 0:\", board[0])\n",
    "print(\"row 1:\", board[1])\n",
    "print(\"row 4:\", board[4])\n",
    "print(\"col 0:\", board[:, 0])\n",
    "print(\"col 1:\", board[:, 1])\n",
    "print(\"1. 3X3:\", board[0:3,0:3])\n",
    "print(\"2. 3X3:\", board[3:6,3:6])"
   ]
  },
  {
   "cell_type": "markdown",
   "id": "df703a36",
   "metadata": {},
   "source": [
    "####### "
   ]
  },
  {
   "cell_type": "code",
   "execution_count": 78,
   "id": "70ea5cea",
   "metadata": {},
   "outputs": [
    {
     "data": {
      "text/plain": [
       "array([[0, 0, 0, 0, 0, 0, 0, 0, 0],\n",
       "       [0, 0, 0, 0, 0, 0, 0, 0, 0],\n",
       "       [0, 0, 0, 0, 0, 0, 0, 0, 0],\n",
       "       [0, 0, 0, 0, 0, 0, 0, 0, 0],\n",
       "       [0, 0, 0, 0, 0, 0, 0, 0, 0],\n",
       "       [0, 0, 0, 0, 0, 0, 0, 0, 0],\n",
       "       [0, 0, 0, 0, 0, 0, 0, 0, 0],\n",
       "       [0, 0, 0, 0, 0, 0, 0, 0, 0],\n",
       "       [0, 0, 0, 0, 0, 0, 0, 0, 0]])"
      ]
     },
     "execution_count": 78,
     "metadata": {},
     "output_type": "execute_result"
    }
   ],
   "source": [
    "board_new = np.full([9,9], 0)\n",
    "board_new"
   ]
  },
  {
   "cell_type": "code",
   "execution_count": 79,
   "id": "8a4f67a2",
   "metadata": {},
   "outputs": [],
   "source": [
    "def is_valid(board, row, col, num):\n",
    "    row_coordinates = ()\n",
    "    col_coordinates = ()\n",
    "    if row in [0,1,2]: row_coordinates = 0, 3\n",
    "    if row in [3,4,5]: row_coordinates = 3, 6\n",
    "    if row in [6,7,8]: row_coordinates = 6, 9\n",
    "        \n",
    "    if col in [0,1,2]: col_coordinates = 0, 3\n",
    "    if col in [3,4,5]: col_coordinates = 3, 6\n",
    "    if col in [6,7,8]: col_coordinates = 6, 9\n",
    "        \n",
    "    #print(\"row_coordinates:\", row_coordinates)\n",
    "    #print(\"col_coordinates:\", col_coordinates)\n",
    "    #print(\"required 3X3 block:\", \n",
    "    #      board[row_coordinates[0]:row_coordinates[1], col_coordinates[0]:col_coordinates[1]])\n",
    "\n",
    "    if num in list(board[row]):\n",
    "        return False\n",
    "    elif num in list(board[:,col]):\n",
    "        return False\n",
    "    elif num in board[row_coordinates[0]:row_coordinates[1], col_coordinates[0]:col_coordinates[1]]:\n",
    "        return False\n",
    "    else:\n",
    "        return True"
   ]
  },
  {
   "cell_type": "code",
   "execution_count": 80,
   "id": "35f512ae",
   "metadata": {},
   "outputs": [],
   "source": [
    "for row in range(1, 10):\n",
    "    for col in range(1, 10):\n",
    "        for num in range(1, 10):\n",
    "            if is_valid(board_new, row-1, col-1, num):\n",
    "                board_new[row-1][col-1] = num\n",
    "                break"
   ]
  },
  {
   "cell_type": "code",
   "execution_count": 81,
   "id": "e835c1b1",
   "metadata": {},
   "outputs": [
    {
     "data": {
      "text/plain": [
       "array([[1, 2, 3, 4, 5, 6, 7, 8, 9],\n",
       "       [4, 5, 6, 1, 2, 3, 0, 0, 0],\n",
       "       [7, 8, 9, 0, 0, 0, 1, 2, 3],\n",
       "       [2, 1, 4, 3, 6, 5, 8, 7, 0],\n",
       "       [3, 6, 5, 2, 1, 4, 9, 0, 0],\n",
       "       [8, 7, 0, 9, 0, 0, 2, 1, 4],\n",
       "       [5, 3, 1, 6, 4, 2, 0, 9, 7],\n",
       "       [6, 4, 2, 5, 3, 1, 0, 0, 8],\n",
       "       [9, 0, 7, 8, 0, 0, 3, 4, 1]])"
      ]
     },
     "execution_count": 81,
     "metadata": {},
     "output_type": "execute_result"
    }
   ],
   "source": [
    "board_new"
   ]
  },
  {
   "cell_type": "code",
   "execution_count": 72,
   "id": "bb108ced",
   "metadata": {},
   "outputs": [
    {
     "data": {
      "text/plain": [
       "False"
      ]
     },
     "execution_count": 72,
     "metadata": {},
     "output_type": "execute_result"
    }
   ],
   "source": [
    "is_valid(board_new, 4-1, 5-1, 6)    #board, row, col, num"
   ]
  },
  {
   "cell_type": "code",
   "execution_count": null,
   "id": "cd2073e9",
   "metadata": {},
   "outputs": [],
   "source": []
  }
 ],
 "metadata": {
  "kernelspec": {
   "display_name": "Python 3 (ipykernel)",
   "language": "python",
   "name": "python3"
  },
  "language_info": {
   "codemirror_mode": {
    "name": "ipython",
    "version": 3
   },
   "file_extension": ".py",
   "mimetype": "text/x-python",
   "name": "python",
   "nbconvert_exporter": "python",
   "pygments_lexer": "ipython3",
   "version": "3.8.10"
  }
 },
 "nbformat": 4,
 "nbformat_minor": 5
}
