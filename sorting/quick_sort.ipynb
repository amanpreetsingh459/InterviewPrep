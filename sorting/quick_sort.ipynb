{
 "cells": [
  {
   "cell_type": "code",
   "execution_count": 1,
   "id": "887a1e01",
   "metadata": {},
   "outputs": [
    {
     "data": {
      "text/plain": [
       "[13, 22, 63, 34, 5, 26, 77, 23, 45, 76, 54]"
      ]
     },
     "execution_count": 1,
     "metadata": {},
     "output_type": "execute_result"
    }
   ],
   "source": [
    "l = [13, 22, 63, 34, 5, 26, 77, 23, 45, 76, 54]\n",
    "l"
   ]
  },
  {
   "cell_type": "code",
   "execution_count": 38,
   "id": "dcd6e8c9",
   "metadata": {},
   "outputs": [],
   "source": [
    "def partition(l, low, high):\n",
    "    i = low - 1\n",
    "    pivot = l[high]\n",
    "    \n",
    "    for j in range(low, high):\n",
    "        if l[j] < pivot:\n",
    "            i += 1\n",
    "            l[i], l[j] = l[j], l[i]\n",
    "            \n",
    "    l[i+1], l[high] = l[high], l[i+1]\n",
    "    \n",
    "    return i+1"
   ]
  },
  {
   "cell_type": "code",
   "execution_count": 39,
   "id": "d7796f27",
   "metadata": {},
   "outputs": [],
   "source": [
    "def quick_sort(l, low, high):\n",
    "    if len(l) == 1:\n",
    "        return l\n",
    "    if low < high:\n",
    "        pi = partition(l, low, high)\n",
    "        \n",
    "        quick_sort(l, low, pi-1)\n",
    "        quick_sort(l, pi+1, high)"
   ]
  },
  {
   "cell_type": "code",
   "execution_count": 40,
   "id": "99b9c262",
   "metadata": {},
   "outputs": [],
   "source": [
    "quick_sort(l, 0, len(l)-1)"
   ]
  },
  {
   "cell_type": "code",
   "execution_count": 41,
   "id": "085b6258",
   "metadata": {},
   "outputs": [
    {
     "data": {
      "text/plain": [
       "[5, 10, 13, 22, 23, 26, 34, 45, 54, 63, 76]"
      ]
     },
     "execution_count": 41,
     "metadata": {},
     "output_type": "execute_result"
    }
   ],
   "source": [
    "l"
   ]
  },
  {
   "cell_type": "code",
   "execution_count": null,
   "id": "678583ef",
   "metadata": {},
   "outputs": [],
   "source": []
  },
  {
   "cell_type": "markdown",
   "id": "cd2614a6",
   "metadata": {},
   "source": [
    "## Complexity: \n",
    "\n",
    "* Best: **`O(n (log n))`**\n",
    "* Average: **`O(n (log n))`**\n",
    "* Worst: **`O(n^2)`**\n"
   ]
  },
  {
   "cell_type": "code",
   "execution_count": null,
   "id": "d443ab1c",
   "metadata": {},
   "outputs": [],
   "source": []
  }
 ],
 "metadata": {
  "kernelspec": {
   "display_name": "Python 3 (ipykernel)",
   "language": "python",
   "name": "python3"
  },
  "language_info": {
   "codemirror_mode": {
    "name": "ipython",
    "version": 3
   },
   "file_extension": ".py",
   "mimetype": "text/x-python",
   "name": "python",
   "nbconvert_exporter": "python",
   "pygments_lexer": "ipython3",
   "version": "3.8.10"
  }
 },
 "nbformat": 4,
 "nbformat_minor": 5
}
