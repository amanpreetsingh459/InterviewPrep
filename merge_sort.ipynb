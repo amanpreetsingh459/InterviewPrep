{
 "cells": [
  {
   "cell_type": "code",
   "execution_count": 2,
   "id": "55bf944d",
   "metadata": {},
   "outputs": [],
   "source": [
    "def merge_sort(arr):\n",
    "    if len(arr) > 1:    #check if there are more than 1 element in list\n",
    "        #finding the middle index in the list\n",
    "        mid_idx = len(arr) // 2\n",
    "        \n",
    "        #dividing the list into 2 halves\n",
    "        left_list = arr[:mid_idx]\n",
    "        right_list = arr[mid_idx:]\n",
    "        \n",
    "        #recurssively divide the list till only single-single elements are remained in the list\n",
    "        merge_sort(left_list)\n",
    "        merge_sort(right_list)\n",
    "        \n",
    "        #start the swap operations\n",
    "        \n",
    "        #initialize the indexes\n",
    "        i = 0\n",
    "        j = 0\n",
    "        k = 0\n",
    "        \n",
    "        while i<len(left_list) and j<len(right_list):\n",
    "            if left_list[i] < right_list[j]:\n",
    "                arr[k] = left_list[i]\n",
    "                i += 1\n",
    "            else:\n",
    "                arr[k] = right_list[j]\n",
    "                j+=1\n",
    "                \n",
    "            k += 1\n",
    "            \n",
    "        #cross-veryfying the both left, right lists for any remained in case of uneven lists\n",
    "        while i<len(left_list):\n",
    "            arr[k] = left_list[i]\n",
    "            i += 1\n",
    "            k += 1\n",
    "            \n",
    "        while j<len(right_list):\n",
    "            arr[k] = right_list[j]\n",
    "            j += 1\n",
    "            k += 1"
   ]
  },
  {
   "cell_type": "code",
   "execution_count": 3,
   "id": "e3fd0ca3",
   "metadata": {},
   "outputs": [
    {
     "data": {
      "text/plain": [
       "[12, 11, 13, 5, 6, 7]"
      ]
     },
     "execution_count": 3,
     "metadata": {},
     "output_type": "execute_result"
    }
   ],
   "source": [
    "arr = [12, 11, 13, 5, 6, 7]\n",
    "arr"
   ]
  },
  {
   "cell_type": "code",
   "execution_count": 4,
   "id": "592a5036",
   "metadata": {},
   "outputs": [
    {
     "data": {
      "text/plain": [
       "[5, 6, 7, 11, 12, 13]"
      ]
     },
     "execution_count": 4,
     "metadata": {},
     "output_type": "execute_result"
    }
   ],
   "source": [
    "merge_sort(arr)\n",
    "arr"
   ]
  },
  {
   "cell_type": "markdown",
   "id": "4e89fb62",
   "metadata": {},
   "source": [
    "#### Complexity of merge sort\n",
    "* Divide(into halves) and conquer so logarithmic i.e. `log(n)`\n",
    "* To merge subarrays running time of `O(n)` will be taken\n",
    "* hence the mergesort complexity will be **`O(nlog(n))`**"
   ]
  },
  {
   "cell_type": "code",
   "execution_count": null,
   "id": "51f0fe34",
   "metadata": {},
   "outputs": [],
   "source": []
  }
 ],
 "metadata": {
  "kernelspec": {
   "display_name": "Python 3 (ipykernel)",
   "language": "python",
   "name": "python3"
  },
  "language_info": {
   "codemirror_mode": {
    "name": "ipython",
    "version": 3
   },
   "file_extension": ".py",
   "mimetype": "text/x-python",
   "name": "python",
   "nbconvert_exporter": "python",
   "pygments_lexer": "ipython3",
   "version": "3.8.10"
  }
 },
 "nbformat": 4,
 "nbformat_minor": 5
}
