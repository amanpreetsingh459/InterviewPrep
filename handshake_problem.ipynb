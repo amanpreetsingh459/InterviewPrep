{
 "cells": [
  {
   "cell_type": "markdown",
   "id": "1c019164",
   "metadata": {},
   "source": [
    "### Number of handshakes such that a person shakes hands only once with all the others"
   ]
  },
  {
   "cell_type": "code",
   "execution_count": 5,
   "id": "69312f99",
   "metadata": {},
   "outputs": [],
   "source": [
    "#way 1\n",
    "def handshake_1(n):\n",
    "    if n==0:\n",
    "        return 0\n",
    "    else:\n",
    "        return (n-1) + handshake(n-1)"
   ]
  },
  {
   "cell_type": "code",
   "execution_count": 11,
   "id": "1a189771",
   "metadata": {},
   "outputs": [
    {
     "data": {
      "text/plain": [
       "45"
      ]
     },
     "execution_count": 11,
     "metadata": {},
     "output_type": "execute_result"
    }
   ],
   "source": [
    "handshake_1(10)"
   ]
  },
  {
   "cell_type": "code",
   "execution_count": 12,
   "id": "2a955bbf",
   "metadata": {},
   "outputs": [],
   "source": [
    "#way 2\n",
    "def handshake_2(n):\n",
    "    return (n*(n-1))//2"
   ]
  },
  {
   "cell_type": "code",
   "execution_count": 13,
   "id": "f2e92337",
   "metadata": {},
   "outputs": [
    {
     "data": {
      "text/plain": [
       "45"
      ]
     },
     "execution_count": 13,
     "metadata": {},
     "output_type": "execute_result"
    }
   ],
   "source": [
    "handshake_2(10)"
   ]
  },
  {
   "cell_type": "code",
   "execution_count": null,
   "id": "900b9b86",
   "metadata": {},
   "outputs": [],
   "source": []
  }
 ],
 "metadata": {
  "kernelspec": {
   "display_name": "Python 3 (ipykernel)",
   "language": "python",
   "name": "python3"
  },
  "language_info": {
   "codemirror_mode": {
    "name": "ipython",
    "version": 3
   },
   "file_extension": ".py",
   "mimetype": "text/x-python",
   "name": "python",
   "nbconvert_exporter": "python",
   "pygments_lexer": "ipython3",
   "version": "3.8.10"
  }
 },
 "nbformat": 4,
 "nbformat_minor": 5
}
