{
 "cells": [
  {
   "cell_type": "code",
   "execution_count": 31,
   "id": "8157e63e",
   "metadata": {},
   "outputs": [],
   "source": [
    "class BST:\n",
    "    def __init__(self, data):\n",
    "        self.left = None\n",
    "        self.right = None\n",
    "        self.data = data\n",
    "        \n",
    "    def print_tree(self):\n",
    "        if self.left:\n",
    "            self.left.print_tree()\n",
    "        print(self.data, end=\"  \")\n",
    "        if self.right:\n",
    "            self.right.print_tree()\n",
    "            \n",
    "    def insert(self, element):\n",
    "        if self.data:\n",
    "            if element < self.data:\n",
    "                if self.left is None:\n",
    "                    self.left = BST(element)\n",
    "                else:\n",
    "                    self.left.insert(element)\n",
    "            if element >= self.data:\n",
    "                if self.right is None:\n",
    "                    self.right = BST(element)\n",
    "                else:\n",
    "                    self.right.insert(element)\n",
    "        else:\n",
    "            self.data = element\n",
    "            \n",
    "    def in_order(self, root):\n",
    "        if root:\n",
    "            self.in_order(root.left)\n",
    "            print(root.data, end=\"  \")\n",
    "            self.in_order(root.right)\n",
    "            \n",
    "    def pre_order(self, root):\n",
    "        if root:\n",
    "            print(root.data, end=\"  \")\n",
    "            self.in_order(root.left)\n",
    "            self.in_order(root.right)\n",
    "            \n",
    "    def post_order(self, root):\n",
    "        if root:\n",
    "            self.in_order(root.left)\n",
    "            self.in_order(root.right)\n",
    "            print(root.data, end=\"  \")"
   ]
  },
  {
   "cell_type": "code",
   "execution_count": 32,
   "id": "df76e06a",
   "metadata": {},
   "outputs": [],
   "source": [
    "root = BST(10)\n",
    "root.insert(4)\n",
    "root.insert(14)\n",
    "root.insert(2)\n",
    "root.insert(7)\n",
    "root.insert(44)"
   ]
  },
  {
   "cell_type": "code",
   "execution_count": 33,
   "id": "b121595c",
   "metadata": {},
   "outputs": [
    {
     "data": {
      "text/plain": [
       "(10, 4, 14)"
      ]
     },
     "execution_count": 33,
     "metadata": {},
     "output_type": "execute_result"
    }
   ],
   "source": [
    "root.data, root.left.data, root.right.data"
   ]
  },
  {
   "cell_type": "code",
   "execution_count": 34,
   "id": "893e4992",
   "metadata": {},
   "outputs": [
    {
     "name": "stdout",
     "output_type": "stream",
     "text": [
      "2  4  7  10  14  44  "
     ]
    }
   ],
   "source": [
    "root.print_tree()"
   ]
  },
  {
   "cell_type": "code",
   "execution_count": 35,
   "id": "8da41ff6",
   "metadata": {},
   "outputs": [
    {
     "name": "stdout",
     "output_type": "stream",
     "text": [
      "2  4  7  10  14  44  "
     ]
    }
   ],
   "source": [
    "root.in_order(root)"
   ]
  },
  {
   "cell_type": "code",
   "execution_count": null,
   "id": "35332cc6",
   "metadata": {},
   "outputs": [],
   "source": []
  }
 ],
 "metadata": {
  "kernelspec": {
   "display_name": "Python 3 (ipykernel)",
   "language": "python",
   "name": "python3"
  },
  "language_info": {
   "codemirror_mode": {
    "name": "ipython",
    "version": 3
   },
   "file_extension": ".py",
   "mimetype": "text/x-python",
   "name": "python",
   "nbconvert_exporter": "python",
   "pygments_lexer": "ipython3",
   "version": "3.8.10"
  }
 },
 "nbformat": 4,
 "nbformat_minor": 5
}
