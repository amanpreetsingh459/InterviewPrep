{
 "cells": [
  {
   "cell_type": "code",
   "execution_count": null,
   "id": "cc964bf0",
   "metadata": {},
   "outputs": [],
   "source": [
    "Problem descriptio"
   ]
  },
  {
   "cell_type": "code",
   "execution_count": 15,
   "id": "50a55ff6",
   "metadata": {},
   "outputs": [],
   "source": [
    "import sys\n",
    "def marsExploration(s):\n",
    "    # Write your code here\n",
    "    \n",
    "    if len(s) < 1 or len(s) > 99 or len(s)%3 != 0: \n",
    "        sys.exit()\n",
    "    for c in s:\n",
    "        if ord(c) < 65 or ord(c) > 90:\n",
    "            sys.exit()\n",
    "    \n",
    "    difference = 0\n",
    "    for i in range(0, len(s), 3):\n",
    "        if s[i] != 'S': \n",
    "            difference += 1\n",
    "        if s[i+1] != 'O':\n",
    "            difference += 1\n",
    "        if s[i+2] != 'S':\n",
    "            difference += 1\n",
    "            \n",
    "    return difference"
   ]
  },
  {
   "cell_type": "code",
   "execution_count": 19,
   "id": "30e5df77",
   "metadata": {},
   "outputs": [
    {
     "ename": "SystemExit",
     "evalue": "",
     "output_type": "error",
     "traceback": [
      "An exception has occurred, use %tb to see the full traceback.\n",
      "\u001b[0;31mSystemExit\u001b[0m\n"
     ]
    }
   ],
   "source": [
    "marsExploration(\"Sos\")"
   ]
  },
  {
   "cell_type": "code",
   "execution_count": 14,
   "id": "b2a647d6",
   "metadata": {},
   "outputs": [
    {
     "data": {
      "text/plain": [
       "90"
      ]
     },
     "execution_count": 14,
     "metadata": {},
     "output_type": "execute_result"
    }
   ],
   "source": [
    "ord(\"Z\")"
   ]
  },
  {
   "cell_type": "code",
   "execution_count": null,
   "id": "91d0d4d1",
   "metadata": {},
   "outputs": [],
   "source": []
  }
 ],
 "metadata": {
  "kernelspec": {
   "display_name": "Python 3 (ipykernel)",
   "language": "python",
   "name": "python3"
  },
  "language_info": {
   "codemirror_mode": {
    "name": "ipython",
    "version": 3
   },
   "file_extension": ".py",
   "mimetype": "text/x-python",
   "name": "python",
   "nbconvert_exporter": "python",
   "pygments_lexer": "ipython3",
   "version": "3.8.10"
  }
 },
 "nbformat": 4,
 "nbformat_minor": 5
}
