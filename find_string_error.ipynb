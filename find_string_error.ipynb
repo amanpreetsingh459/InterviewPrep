{
 "cells": [
  {
   "cell_type": "markdown",
   "id": "f5a92ed2",
   "metadata": {},
   "source": [
    "Problem description here: https://www.hackerrank.com/challenges/mars-exploration/problem?isFullScreen=true"
   ]
  },
  {
   "cell_type": "code",
   "execution_count": 15,
   "id": "567abe65",
   "metadata": {},
   "outputs": [],
   "source": [
    "import sys\n",
    "def marsExploration(s):\n",
    "    # Write your code here\n",
    "    \n",
    "    if len(s) < 1 or len(s) > 99 or len(s)%3 != 0: \n",
    "        sys.exit()\n",
    "    for c in s:\n",
    "        if ord(c) < 65 or ord(c) > 90:\n",
    "            sys.exit()\n",
    "    \n",
    "    difference = 0\n",
    "    for i in range(0, len(s), 3):\n",
    "        if s[i] != 'S': \n",
    "            difference += 1\n",
    "        if s[i+1] != 'O':\n",
    "            difference += 1\n",
    "        if s[i+2] != 'S':\n",
    "            difference += 1\n",
    "            \n",
    "    return difference"
   ]
  },
  {
   "cell_type": "code",
   "execution_count": 21,
   "id": "aa568b30",
   "metadata": {},
   "outputs": [
    {
     "data": {
      "text/plain": [
       "0"
      ]
     },
     "execution_count": 21,
     "metadata": {},
     "output_type": "execute_result"
    }
   ],
   "source": [
    "marsExploration(\"SOS\")"
   ]
  },
  {
   "cell_type": "code",
   "execution_count": null,
   "id": "299b68c3",
   "metadata": {},
   "outputs": [],
   "source": []
  }
 ],
 "metadata": {
  "kernelspec": {
   "display_name": "Python 3 (ipykernel)",
   "language": "python",
   "name": "python3"
  },
  "language_info": {
   "codemirror_mode": {
    "name": "ipython",
    "version": 3
   },
   "file_extension": ".py",
   "mimetype": "text/x-python",
   "name": "python",
   "nbconvert_exporter": "python",
   "pygments_lexer": "ipython3",
   "version": "3.8.10"
  }
 },
 "nbformat": 4,
 "nbformat_minor": 5
}
