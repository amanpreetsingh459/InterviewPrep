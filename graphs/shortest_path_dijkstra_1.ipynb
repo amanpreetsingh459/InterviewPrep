{
 "cells": [
  {
   "cell_type": "markdown",
   "id": "208e90f3",
   "metadata": {},
   "source": [
    "# Dijkstra implementation of calculating shortest distances from source to every other node"
   ]
  },
  {
   "cell_type": "code",
   "execution_count": 1,
   "id": "306b711b",
   "metadata": {},
   "outputs": [],
   "source": [
    "import sys"
   ]
  },
  {
   "cell_type": "code",
   "execution_count": 106,
   "id": "7bc5db5b",
   "metadata": {},
   "outputs": [],
   "source": [
    "class ShortestPathDijkstra:\n",
    "    def __init__(self, no_of_vertices):\n",
    "        self.no_of_vertices = no_of_vertices\n",
    "        self.graph = [[0 for column in range(no_of_vertices)] for row in range(no_of_vertices)]\n",
    "        \n",
    "    def get_min_distance_index(self, distances, is_distance_found_list):\n",
    "        minimum = sys.maxsize\n",
    " \n",
    "        # Search not nearest vertex not in the\n",
    "        # shortest path tree\n",
    "        for i in range(self.no_of_vertices):\n",
    "            if distances[i] < minimum and is_distance_found_list[i] == False:\n",
    "                minimum = distances[i]\n",
    "                minimum_index = i\n",
    "                \n",
    "        return minimum_index\n",
    " \n",
    "    def dijkstra_calculate(self, source_node):\n",
    "        distances = [sys.maxsize] * self.no_of_vertices    #make a list of infinities(system's max number in this case)\n",
    "        distances[source_node] = 0        #initialize the source node distance to itself with 0\n",
    "        is_distance_found_list = [False] * self.no_of_vertices\n",
    "        \n",
    "        for i in range(self.no_of_vertices):\n",
    "            min_distance_index = self.get_min_distance_index(distances, is_distance_found_list)\n",
    " \n",
    "            is_distance_found_list[min_distance_index] = True\n",
    " \n",
    "            for y in range(self.no_of_vertices):\n",
    "                if self.graph[min_distance_index][y] > 0 and \\\n",
    "                    is_distance_found_list[y] == False and \\\n",
    "                    distances[y] > distances[min_distance_index] + self.graph[min_distance_index][y]:\n",
    "                        distances[y] = distances[min_distance_index] + self.graph[min_distance_index][y]\n",
    "                    \n",
    "        self.get_all_distances_from_source(distances, source_node)\n",
    "        \n",
    "    def get_all_distances_from_source(self, distances, source_node):\n",
    "        print(\"Source \\tDestination\\tDistance from Source:\")\n",
    "        for node in range(self.no_of_vertices):\n",
    "            print(source_node, \"\\t\", node, \"\\t\\t\", distances[node])"
   ]
  },
  {
   "cell_type": "code",
   "execution_count": 107,
   "id": "04311026",
   "metadata": {},
   "outputs": [
    {
     "name": "stdout",
     "output_type": "stream",
     "text": [
      "9223372036854775807\n",
      "[9223372036854775807, 9223372036854775807, 9223372036854775807, 9223372036854775807, 9223372036854775807, 9223372036854775807, 9223372036854775807, 9223372036854775807, 9223372036854775807]\n",
      "[False, False, False, False, False, False, False, False, False]\n"
     ]
    }
   ],
   "source": [
    "print(sys.maxsize)\n",
    "print([sys.maxsize] * 9)\n",
    "print([False] * 9)"
   ]
  },
  {
   "cell_type": "code",
   "execution_count": 108,
   "id": "cff1c7fd",
   "metadata": {},
   "outputs": [],
   "source": [
    "# Driver program\n",
    "g = ShortestPathDijkstra(9)"
   ]
  },
  {
   "cell_type": "code",
   "execution_count": 109,
   "id": "b1c67bc7",
   "metadata": {},
   "outputs": [],
   "source": [
    "g.graph = [[0, 4, 0, 0, 0, 0, 0, 8, 0],\n",
    "        [4, 0, 8, 0, 0, 0, 0, 11, 0],\n",
    "        [0, 8, 0, 7, 0, 4, 0, 0, 2],\n",
    "        [0, 0, 7, 0, 9, 14, 0, 0, 0],\n",
    "        [0, 0, 0, 9, 0, 10, 0, 0, 0],\n",
    "        [0, 0, 4, 14, 10, 0, 2, 0, 0],\n",
    "        [0, 0, 0, 0, 0, 2, 0, 1, 6],\n",
    "        [8, 11, 0, 0, 0, 0, 1, 0, 7],\n",
    "        [0, 0, 2, 0, 0, 0, 6, 7, 0]\n",
    "        ];"
   ]
  },
  {
   "cell_type": "code",
   "execution_count": 111,
   "id": "623c1451",
   "metadata": {},
   "outputs": [
    {
     "name": "stdout",
     "output_type": "stream",
     "text": [
      "Source \tDestination\tDistance from Source:\n",
      "0 \t 0 \t\t 0\n",
      "0 \t 1 \t\t 4\n",
      "0 \t 2 \t\t 12\n",
      "0 \t 3 \t\t 19\n",
      "0 \t 4 \t\t 21\n",
      "0 \t 5 \t\t 11\n",
      "0 \t 6 \t\t 9\n",
      "0 \t 7 \t\t 8\n",
      "0 \t 8 \t\t 14\n"
     ]
    }
   ],
   "source": [
    "source_node = 0\n",
    "g.dijkstra_calculate(source_node);"
   ]
  },
  {
   "cell_type": "code",
   "execution_count": null,
   "id": "34bef4d3",
   "metadata": {},
   "outputs": [],
   "source": []
  }
 ],
 "metadata": {
  "kernelspec": {
   "display_name": "Python 3 (ipykernel)",
   "language": "python",
   "name": "python3"
  },
  "language_info": {
   "codemirror_mode": {
    "name": "ipython",
    "version": 3
   },
   "file_extension": ".py",
   "mimetype": "text/x-python",
   "name": "python",
   "nbconvert_exporter": "python",
   "pygments_lexer": "ipython3",
   "version": "3.8.10"
  }
 },
 "nbformat": 4,
 "nbformat_minor": 5
}
